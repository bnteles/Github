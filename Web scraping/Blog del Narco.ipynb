{
 "cells": [
  {
   "cell_type": "code",
   "execution_count": 5,
   "metadata": {},
   "outputs": [],
   "source": [
    "import pandas as pd\n",
    "import urllib.request as ur"
   ]
  },
  {
   "cell_type": "code",
   "execution_count": 2,
   "metadata": {},
   "outputs": [],
   "source": [
    "from bs4 import BeautifulSoup"
   ]
  },
  {
   "cell_type": "code",
   "execution_count": 3,
   "metadata": {},
   "outputs": [],
   "source": [
    "initial_url = 'https://elblogdelnarco.com/page/1'"
   ]
  },
  {
   "cell_type": "code",
   "execution_count": 24,
   "metadata": {
    "scrolled": true
   },
   "outputs": [],
   "source": [
    "# 1. Get initial page\n",
    "# Set limit to 100\n",
    "\n",
    "all_articles=[]\n",
    "\n",
    "# 1.1 For each page before limit...\n",
    "\n",
    "for old_urls in range (601, 651):\n",
    "    start_url=\"https://elblogdelnarco.com/page/%d\" % old_urls\n",
    "    initial_page = ur.urlopen(start_url)\n",
    "    initial_page_structure = BeautifulSoup(initial_page)\n",
    "    \n",
    "    # 2. Get all articles\n",
    "    articles = initial_page_structure.find_all('article')\n",
    "    all_articles.extend(articles)\n",
    "\n",
    "\n",
    "urls = []\n",
    "# 2.1 For each article...\n",
    "for article in all_articles:\n",
    "    \n",
    "    # 2.2 Get the link\n",
    "    house_of_link = article.findChild('a')\n",
    "    url_of_link = house_of_link['href']\n",
    "    urls.append(url_of_link)\n",
    "\n",
    "# 3. For each link...\n",
    "blog_narco = []\n",
    "\n",
    "for url in urls:\n",
    "    \n",
    "    # 4. Get page content in that link\n",
    "    page = ur.urlopen(url)\n",
    "    page_structure = BeautifulSoup(page)\n",
    "\n",
    "    # 5. Get date, title, text \n",
    "    title = page_structure.find('h1').getText()\n",
    "    date = page_structure.find('span', class_='thetime').find('span').getText()\n",
    "    text = page_structure.find('div', class_='thecontent').getText().replace('\\n', '').replace('\\xa0', '')\n",
    "\n",
    "    # 6. Store date, title, text\n",
    "    data_of_article = {'date':date, 'title':title, 'text':text, 'url':url}\n",
    "    blog_narco.append(data_of_article)\n",
    "\n",
    "# 7. Save to file\n",
    "df = pd.DataFrame(blog_narco)\n"
   ]
  }
 ],
 "metadata": {
  "kernelspec": {
   "display_name": "Python 3",
   "language": "python",
   "name": "python3"
  },
  "language_info": {
   "codemirror_mode": {
    "name": "ipython",
    "version": 3
   },
   "file_extension": ".py",
   "mimetype": "text/x-python",
   "name": "python",
   "nbconvert_exporter": "python",
   "pygments_lexer": "ipython3",
   "version": "3.7.6"
  }
 },
 "nbformat": 4,
 "nbformat_minor": 4
}
