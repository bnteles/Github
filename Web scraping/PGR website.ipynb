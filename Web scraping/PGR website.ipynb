{
 "cells": [
  {
   "cell_type": "code",
   "execution_count": 1,
   "metadata": {},
   "outputs": [],
   "source": [
    "import pandas as pd"
   ]
  },
  {
   "cell_type": "code",
   "execution_count": 2,
   "metadata": {},
   "outputs": [],
   "source": [
    "import urllib.request as ur"
   ]
  },
  {
   "cell_type": "code",
   "execution_count": 3,
   "metadata": {},
   "outputs": [],
   "source": [
    "from bs4 import BeautifulSoup"
   ]
  },
  {
   "cell_type": "code",
   "execution_count": 14,
   "metadata": {},
   "outputs": [],
   "source": [
    "initial_url = \"http://www.mpf.mp.br/pgr/noticias-pgr?b_start:int=0\""
   ]
  },
  {
   "cell_type": "code",
   "execution_count": 31,
   "metadata": {},
   "outputs": [],
   "source": [
    "# 1. Get initial page\n",
    "\n",
    "initial_page = ur.urlopen(initial_url)\n",
    "initial_page_structure = BeautifulSoup(initial_page)\n",
    "\n",
    "articles = initial_page_structure.find_all(\"article\")\n",
    "\n",
    "# 2. Get all articles\n",
    "\n",
    "urls=[]\n",
    "\n",
    "for article in articles:\n",
    "    house_of_link=article.findChild(\"a\")\n",
    "    url_of_link=house_of_link[\"href\"]\n",
    "    urls.append(url_of_link)\n",
    "\n",
    "    \n",
    "# 3. For each link...\n",
    "pgr=[]\n",
    "\n",
    "for url in urls:\n",
    "    \n",
    "    # 4. Get page content in that link\n",
    "    page=ur.urlopen(url)\n",
    "    page_structure=BeautifulSoup(page)\n",
    "    \n",
    "    \n",
    "    # 5. Get date, title, text\n",
    "    title=page_structure.find(\"h2\").getText()\n",
    "    date=page_structure.find(\"div\",class_=\"data\").getText()\n",
    "    \n",
    "    text = \"\"\n",
    "    all_pes=page_structure.find(\"div\",class_=\"noticia\").find_all(\"p\",recursive=False)\n",
    "    for p in all_pes:\n",
    "        text = text + p.getText()\n",
    "    \n",
    "    # 6. Store date, title, text\n",
    "    data_of_article={\"date\":date, \"title\":title,\"text\":text,\"url\":url}\n",
    "    pgr.append(data_of_article)\n",
    "    \n",
    "# 7. Save to file\n",
    "df = pd.DataFrame(pgr)"
   ]
  }
 ],
 "metadata": {
  "kernelspec": {
   "display_name": "Python 3",
   "language": "python",
   "name": "python3"
  },
  "language_info": {
   "codemirror_mode": {
    "name": "ipython",
    "version": 3
   },
   "file_extension": ".py",
   "mimetype": "text/x-python",
   "name": "python",
   "nbconvert_exporter": "python",
   "pygments_lexer": "ipython3",
   "version": "3.7.6"
  }
 },
 "nbformat": 4,
 "nbformat_minor": 4
}
