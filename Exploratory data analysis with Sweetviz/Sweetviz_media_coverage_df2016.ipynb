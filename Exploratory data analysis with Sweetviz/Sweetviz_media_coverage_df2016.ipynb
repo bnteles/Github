{
 "cells": [
  {
   "cell_type": "code",
   "execution_count": 1,
   "metadata": {},
   "outputs": [
    {
     "name": "stdout",
     "output_type": "stream",
     "text": [
      "Collecting sweetviz\n",
      "  Downloading sweetviz-1.0b6-py3-none-any.whl (325 kB)\n",
      "Collecting importlib-resources>=1.2.0\n",
      "  Downloading importlib_resources-3.0.0-py2.py3-none-any.whl (23 kB)\n",
      "Requirement already satisfied: numpy>=1.16.0 in c:\\users\\bntel\\anaconda3\\lib\\site-packages (from sweetviz) (1.18.1)\n",
      "Requirement already satisfied: scipy>=1.3.2 in c:\\users\\bntel\\anaconda3\\lib\\site-packages (from sweetviz) (1.4.1)\n",
      "Requirement already satisfied: jinja2>=2.11.1 in c:\\users\\bntel\\anaconda3\\lib\\site-packages (from sweetviz) (2.11.1)\n",
      "Requirement already satisfied: pandas!=1.0.0,!=1.0.1,!=1.0.2,>=0.25.3 in c:\\users\\bntel\\anaconda3\\lib\\site-packages (from sweetviz) (1.1.3)\n",
      "Requirement already satisfied: tqdm>=4.43.0 in c:\\users\\bntel\\anaconda3\\lib\\site-packages (from sweetviz) (4.50.2)\n",
      "Requirement already satisfied: matplotlib>=3.1.3 in c:\\users\\bntel\\anaconda3\\lib\\site-packages (from sweetviz) (3.1.3)\n",
      "Requirement already satisfied: zipp>=0.4; python_version < \"3.8\" in c:\\users\\bntel\\anaconda3\\lib\\site-packages (from importlib-resources>=1.2.0->sweetviz) (2.2.0)\n",
      "Requirement already satisfied: MarkupSafe>=0.23 in c:\\users\\bntel\\anaconda3\\lib\\site-packages (from jinja2>=2.11.1->sweetviz) (1.1.1)\n",
      "Requirement already satisfied: python-dateutil>=2.7.3 in c:\\users\\bntel\\anaconda3\\lib\\site-packages (from pandas!=1.0.0,!=1.0.1,!=1.0.2,>=0.25.3->sweetviz) (2.8.1)\n",
      "Requirement already satisfied: pytz>=2017.2 in c:\\users\\bntel\\anaconda3\\lib\\site-packages (from pandas!=1.0.0,!=1.0.1,!=1.0.2,>=0.25.3->sweetviz) (2019.3)\n",
      "Requirement already satisfied: kiwisolver>=1.0.1 in c:\\users\\bntel\\anaconda3\\lib\\site-packages (from matplotlib>=3.1.3->sweetviz) (1.1.0)\n",
      "Requirement already satisfied: cycler>=0.10 in c:\\users\\bntel\\anaconda3\\lib\\site-packages (from matplotlib>=3.1.3->sweetviz) (0.10.0)\n",
      "Requirement already satisfied: pyparsing!=2.0.4,!=2.1.2,!=2.1.6,>=2.0.1 in c:\\users\\bntel\\anaconda3\\lib\\site-packages (from matplotlib>=3.1.3->sweetviz) (2.4.6)\n",
      "Requirement already satisfied: six>=1.5 in c:\\users\\bntel\\anaconda3\\lib\\site-packages (from python-dateutil>=2.7.3->pandas!=1.0.0,!=1.0.1,!=1.0.2,>=0.25.3->sweetviz) (1.14.0)\n",
      "Requirement already satisfied: setuptools in c:\\users\\bntel\\anaconda3\\lib\\site-packages (from kiwisolver>=1.0.1->matplotlib>=3.1.3->sweetviz) (45.2.0.post20200210)\n",
      "Installing collected packages: importlib-resources, sweetviz\n",
      "Successfully installed importlib-resources-3.0.0 sweetviz-1.0b6\n",
      "Note: you may need to restart the kernel to use updated packages.\n"
     ]
    }
   ],
   "source": [
    "pip install sweetviz"
   ]
  },
  {
   "cell_type": "code",
   "execution_count": 2,
   "metadata": {},
   "outputs": [],
   "source": [
    "import pandas as pd"
   ]
  },
  {
   "cell_type": "code",
   "execution_count": 3,
   "metadata": {},
   "outputs": [],
   "source": [
    "df2016 = pd.read_csv(\"2016 BEATRIZ TELES - VIOLENCIA POLICIAL.csv\")"
   ]
  },
  {
   "cell_type": "code",
   "execution_count": 23,
   "metadata": {},
   "outputs": [
    {
     "data": {
      "text/html": [
       "<div>\n",
       "<style scoped>\n",
       "    .dataframe tbody tr th:only-of-type {\n",
       "        vertical-align: middle;\n",
       "    }\n",
       "\n",
       "    .dataframe tbody tr th {\n",
       "        vertical-align: top;\n",
       "    }\n",
       "\n",
       "    .dataframe thead th {\n",
       "        text-align: right;\n",
       "    }\n",
       "</style>\n",
       "<table border=\"1\" class=\"dataframe\">\n",
       "  <thead>\n",
       "    <tr style=\"text-align: right;\">\n",
       "      <th></th>\n",
       "      <th>Meio</th>\n",
       "      <th>DATA</th>\n",
       "      <th>Manchete</th>\n",
       "      <th>TEMA ESPECIFICO</th>\n",
       "      <th>TEMA AGREGADO</th>\n",
       "    </tr>\n",
       "  </thead>\n",
       "  <tbody>\n",
       "    <tr>\n",
       "      <th>0</th>\n",
       "      <td>Antena1</td>\n",
       "      <td>2016-10-06</td>\n",
       "      <td>Sim</td>\n",
       "      <td>NA</td>\n",
       "      <td>1501-Forças de proteção civil (bombeiros, trip...</td>\n",
       "    </tr>\n",
       "    <tr>\n",
       "      <th>1</th>\n",
       "      <td>TSF</td>\n",
       "      <td>2016-01-01</td>\n",
       "      <td>Não</td>\n",
       "      <td>NA</td>\n",
       "      <td>1502-Forças policiais</td>\n",
       "    </tr>\n",
       "    <tr>\n",
       "      <th>2</th>\n",
       "      <td>RR</td>\n",
       "      <td>2016-07-23</td>\n",
       "      <td>Sim</td>\n",
       "      <td>NA</td>\n",
       "      <td>1501-Forças de proteção civil (bombeiros, trip...</td>\n",
       "    </tr>\n",
       "    <tr>\n",
       "      <th>3</th>\n",
       "      <td>TSF</td>\n",
       "      <td>2016-04-01</td>\n",
       "      <td>Não</td>\n",
       "      <td>NA</td>\n",
       "      <td>1502-Forças policiais</td>\n",
       "    </tr>\n",
       "    <tr>\n",
       "      <th>4</th>\n",
       "      <td>RR</td>\n",
       "      <td>2016-10-31</td>\n",
       "      <td>Não</td>\n",
       "      <td>NA</td>\n",
       "      <td>1501-Forças de proteção civil (bombeiros, trip...</td>\n",
       "    </tr>\n",
       "    <tr>\n",
       "      <th>...</th>\n",
       "      <td>...</td>\n",
       "      <td>...</td>\n",
       "      <td>...</td>\n",
       "      <td>...</td>\n",
       "      <td>...</td>\n",
       "    </tr>\n",
       "    <tr>\n",
       "      <th>679</th>\n",
       "      <td>SIC</td>\n",
       "      <td>2016-12-31</td>\n",
       "      <td>Sim</td>\n",
       "      <td>NA</td>\n",
       "      <td>1502-Forças policiais</td>\n",
       "    </tr>\n",
       "    <tr>\n",
       "      <th>680</th>\n",
       "      <td>TSF</td>\n",
       "      <td>2016-12-31</td>\n",
       "      <td>Sim</td>\n",
       "      <td>NA</td>\n",
       "      <td>1502-Forças policiais</td>\n",
       "    </tr>\n",
       "    <tr>\n",
       "      <th>681</th>\n",
       "      <td>SICN online</td>\n",
       "      <td>2016-07-10</td>\n",
       "      <td>Não</td>\n",
       "      <td>NA</td>\n",
       "      <td>803-Justiça e tribunais (codificar criminalida...</td>\n",
       "    </tr>\n",
       "    <tr>\n",
       "      <th>682</th>\n",
       "      <td>TVI24 online</td>\n",
       "      <td>2016-07-10</td>\n",
       "      <td>Não</td>\n",
       "      <td>NA</td>\n",
       "      <td>803-Justiça e tribunais (codificar criminalida...</td>\n",
       "    </tr>\n",
       "    <tr>\n",
       "      <th>683</th>\n",
       "      <td>Observador</td>\n",
       "      <td>2016-07-10</td>\n",
       "      <td>Não</td>\n",
       "      <td>NA</td>\n",
       "      <td>803-Justiça e tribunais (codificar criminalida...</td>\n",
       "    </tr>\n",
       "  </tbody>\n",
       "</table>\n",
       "<p>684 rows × 5 columns</p>\n",
       "</div>"
      ],
      "text/plain": [
       "             Meio       DATA Manchete TEMA ESPECIFICO  \\\n",
       "0         Antena1 2016-10-06      Sim              NA   \n",
       "1             TSF 2016-01-01      Não              NA   \n",
       "2              RR 2016-07-23      Sim              NA   \n",
       "3             TSF 2016-04-01      Não              NA   \n",
       "4              RR 2016-10-31      Não              NA   \n",
       "..            ...        ...      ...             ...   \n",
       "679           SIC 2016-12-31      Sim              NA   \n",
       "680           TSF 2016-12-31      Sim              NA   \n",
       "681   SICN online 2016-07-10      Não              NA   \n",
       "682  TVI24 online 2016-07-10      Não              NA   \n",
       "683    Observador 2016-07-10      Não              NA   \n",
       "\n",
       "                                         TEMA AGREGADO  \n",
       "0    1501-Forças de proteção civil (bombeiros, trip...  \n",
       "1                                1502-Forças policiais  \n",
       "2    1501-Forças de proteção civil (bombeiros, trip...  \n",
       "3                                1502-Forças policiais  \n",
       "4    1501-Forças de proteção civil (bombeiros, trip...  \n",
       "..                                                 ...  \n",
       "679                              1502-Forças policiais  \n",
       "680                              1502-Forças policiais  \n",
       "681  803-Justiça e tribunais (codificar criminalida...  \n",
       "682  803-Justiça e tribunais (codificar criminalida...  \n",
       "683  803-Justiça e tribunais (codificar criminalida...  \n",
       "\n",
       "[684 rows x 5 columns]"
      ]
     },
     "execution_count": 23,
     "metadata": {},
     "output_type": "execute_result"
    }
   ],
   "source": [
    "df2016"
   ]
  },
  {
   "cell_type": "code",
   "execution_count": 12,
   "metadata": {},
   "outputs": [],
   "source": [
    "df2016[\"DATA\"] = pd.to_datetime(df2016[\"DATA\"])"
   ]
  },
  {
   "cell_type": "code",
   "execution_count": 15,
   "metadata": {},
   "outputs": [],
   "source": [
    "df2016=df2016.drop([\"Sector\"],axis=1)"
   ]
  },
  {
   "cell_type": "code",
   "execution_count": 17,
   "metadata": {},
   "outputs": [],
   "source": [
    "df2016=df2016.drop([\"Resumo (TRANSCRIÇÃO)\"],axis=1)"
   ]
  },
  {
   "cell_type": "code",
   "execution_count": 22,
   "metadata": {},
   "outputs": [],
   "source": [
    "df2016[\"TEMA ESPECIFICO\"] = df2016[\"TEMA ESPECIFICO\"].fillna(\"NA\")"
   ]
  },
  {
   "cell_type": "code",
   "execution_count": 5,
   "metadata": {},
   "outputs": [],
   "source": [
    "import sweetviz as sv"
   ]
  },
  {
   "cell_type": "code",
   "execution_count": 24,
   "metadata": {},
   "outputs": [
    {
     "name": "stderr",
     "output_type": "stream",
     "text": [
      ":FEATURES DONE:                    |█████████████████████| [100%]   00:01  -> (00:00 left)\n",
      ":PAIRWISE DONE:                    |█████████████████████| [100%]   00:00  -> (00:00 left)\n"
     ]
    },
    {
     "name": "stdout",
     "output_type": "stream",
     "text": [
      "Creating Associations graph... DONE!\n"
     ]
    }
   ],
   "source": [
    "report_2016 = sv.analyze(df2016)"
   ]
  },
  {
   "cell_type": "code",
   "execution_count": 25,
   "metadata": {},
   "outputs": [
    {
     "name": "stdout",
     "output_type": "stream",
     "text": [
      "Report reportsv_2016.html was generated! NOTEBOOK/COLAB USERS: no browser will pop up, the report is saved in your notebook/colab files.\n"
     ]
    }
   ],
   "source": [
    "report_2016.show_html(\"reportsv_2016.html\")"
   ]
  }
 ],
 "metadata": {
  "kernelspec": {
   "display_name": "Python 3",
   "language": "python",
   "name": "python3"
  },
  "language_info": {
   "codemirror_mode": {
    "name": "ipython",
    "version": 3
   },
   "file_extension": ".py",
   "mimetype": "text/x-python",
   "name": "python",
   "nbconvert_exporter": "python",
   "pygments_lexer": "ipython3",
   "version": "3.7.6"
  }
 },
 "nbformat": 4,
 "nbformat_minor": 4
}
