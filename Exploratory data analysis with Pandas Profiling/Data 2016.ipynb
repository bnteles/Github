{
 "cells": [
  {
   "cell_type": "code",
   "execution_count": 1,
   "metadata": {},
   "outputs": [],
   "source": [
    "import pandas as pd"
   ]
  },
  {
   "cell_type": "code",
   "execution_count": 2,
   "metadata": {},
   "outputs": [],
   "source": [
    "df2016 = pd.read_csv(\"2016 BEATRIZ TELES - VIOLENCIA POLICIAL.csv\")"
   ]
  },
  {
   "cell_type": "code",
   "execution_count": 7,
   "metadata": {},
   "outputs": [
    {
     "data": {
      "text/html": [
       "<div>\n",
       "<style scoped>\n",
       "    .dataframe tbody tr th:only-of-type {\n",
       "        vertical-align: middle;\n",
       "    }\n",
       "\n",
       "    .dataframe tbody tr th {\n",
       "        vertical-align: top;\n",
       "    }\n",
       "\n",
       "    .dataframe thead th {\n",
       "        text-align: right;\n",
       "    }\n",
       "</style>\n",
       "<table border=\"1\" class=\"dataframe\">\n",
       "  <thead>\n",
       "    <tr style=\"text-align: right;\">\n",
       "      <th></th>\n",
       "      <th>Sector</th>\n",
       "      <th>Meio</th>\n",
       "      <th>DATA</th>\n",
       "      <th>Manchete</th>\n",
       "      <th>TEMA ESPECIFICO</th>\n",
       "      <th>TEMA AGREGADO</th>\n",
       "    </tr>\n",
       "  </thead>\n",
       "  <tbody>\n",
       "    <tr>\n",
       "      <th>0</th>\n",
       "      <td>Rádio</td>\n",
       "      <td>Antena1</td>\n",
       "      <td>2016-10-06</td>\n",
       "      <td>Sim</td>\n",
       "      <td>NaN</td>\n",
       "      <td>1501-Forças de proteção civil (bombeiros, trip...</td>\n",
       "    </tr>\n",
       "    <tr>\n",
       "      <th>1</th>\n",
       "      <td>Rádio</td>\n",
       "      <td>TSF</td>\n",
       "      <td>2016-01-01</td>\n",
       "      <td>Não</td>\n",
       "      <td>NaN</td>\n",
       "      <td>1502-Forças policiais</td>\n",
       "    </tr>\n",
       "    <tr>\n",
       "      <th>2</th>\n",
       "      <td>Rádio</td>\n",
       "      <td>RR</td>\n",
       "      <td>2016-07-23</td>\n",
       "      <td>Sim</td>\n",
       "      <td>NaN</td>\n",
       "      <td>1501-Forças de proteção civil (bombeiros, trip...</td>\n",
       "    </tr>\n",
       "    <tr>\n",
       "      <th>3</th>\n",
       "      <td>Rádio</td>\n",
       "      <td>TSF</td>\n",
       "      <td>2016-04-01</td>\n",
       "      <td>Não</td>\n",
       "      <td>NaN</td>\n",
       "      <td>1502-Forças policiais</td>\n",
       "    </tr>\n",
       "    <tr>\n",
       "      <th>4</th>\n",
       "      <td>Rádio</td>\n",
       "      <td>RR</td>\n",
       "      <td>2016-10-31</td>\n",
       "      <td>Não</td>\n",
       "      <td>NaN</td>\n",
       "      <td>1501-Forças de proteção civil (bombeiros, trip...</td>\n",
       "    </tr>\n",
       "    <tr>\n",
       "      <th>...</th>\n",
       "      <td>...</td>\n",
       "      <td>...</td>\n",
       "      <td>...</td>\n",
       "      <td>...</td>\n",
       "      <td>...</td>\n",
       "      <td>...</td>\n",
       "    </tr>\n",
       "    <tr>\n",
       "      <th>679</th>\n",
       "      <td>TV</td>\n",
       "      <td>SIC</td>\n",
       "      <td>2016-12-31</td>\n",
       "      <td>Sim</td>\n",
       "      <td>NaN</td>\n",
       "      <td>1502-Forças policiais</td>\n",
       "    </tr>\n",
       "    <tr>\n",
       "      <th>680</th>\n",
       "      <td>Rádio</td>\n",
       "      <td>TSF</td>\n",
       "      <td>2016-12-31</td>\n",
       "      <td>Sim</td>\n",
       "      <td>NaN</td>\n",
       "      <td>1502-Forças policiais</td>\n",
       "    </tr>\n",
       "    <tr>\n",
       "      <th>681</th>\n",
       "      <td>Web</td>\n",
       "      <td>SICN online</td>\n",
       "      <td>2016-07-10</td>\n",
       "      <td>Não</td>\n",
       "      <td>NaN</td>\n",
       "      <td>803-Justiça e tribunais (codificar criminalida...</td>\n",
       "    </tr>\n",
       "    <tr>\n",
       "      <th>682</th>\n",
       "      <td>Web</td>\n",
       "      <td>TVI24 online</td>\n",
       "      <td>2016-07-10</td>\n",
       "      <td>Não</td>\n",
       "      <td>NaN</td>\n",
       "      <td>803-Justiça e tribunais (codificar criminalida...</td>\n",
       "    </tr>\n",
       "    <tr>\n",
       "      <th>683</th>\n",
       "      <td>Web</td>\n",
       "      <td>Observador</td>\n",
       "      <td>2016-07-10</td>\n",
       "      <td>Não</td>\n",
       "      <td>NaN</td>\n",
       "      <td>803-Justiça e tribunais (codificar criminalida...</td>\n",
       "    </tr>\n",
       "  </tbody>\n",
       "</table>\n",
       "<p>684 rows × 6 columns</p>\n",
       "</div>"
      ],
      "text/plain": [
       "    Sector          Meio       DATA Manchete TEMA ESPECIFICO  \\\n",
       "0    Rádio       Antena1 2016-10-06      Sim             NaN   \n",
       "1    Rádio           TSF 2016-01-01      Não             NaN   \n",
       "2    Rádio            RR 2016-07-23      Sim             NaN   \n",
       "3    Rádio           TSF 2016-04-01      Não             NaN   \n",
       "4    Rádio            RR 2016-10-31      Não             NaN   \n",
       "..     ...           ...        ...      ...             ...   \n",
       "679     TV           SIC 2016-12-31      Sim             NaN   \n",
       "680  Rádio           TSF 2016-12-31      Sim             NaN   \n",
       "681    Web   SICN online 2016-07-10      Não             NaN   \n",
       "682    Web  TVI24 online 2016-07-10      Não             NaN   \n",
       "683    Web    Observador 2016-07-10      Não             NaN   \n",
       "\n",
       "                                         TEMA AGREGADO  \n",
       "0    1501-Forças de proteção civil (bombeiros, trip...  \n",
       "1                                1502-Forças policiais  \n",
       "2    1501-Forças de proteção civil (bombeiros, trip...  \n",
       "3                                1502-Forças policiais  \n",
       "4    1501-Forças de proteção civil (bombeiros, trip...  \n",
       "..                                                 ...  \n",
       "679                              1502-Forças policiais  \n",
       "680                              1502-Forças policiais  \n",
       "681  803-Justiça e tribunais (codificar criminalida...  \n",
       "682  803-Justiça e tribunais (codificar criminalida...  \n",
       "683  803-Justiça e tribunais (codificar criminalida...  \n",
       "\n",
       "[684 rows x 6 columns]"
      ]
     },
     "execution_count": 7,
     "metadata": {},
     "output_type": "execute_result"
    }
   ],
   "source": [
    "df2016"
   ]
  },
  {
   "cell_type": "code",
   "execution_count": 4,
   "metadata": {},
   "outputs": [],
   "source": [
    "#transform data type of \"DATA\" column\n",
    "\n",
    "df2016[\"DATA\"] = pd.to_datetime(df2016[\"DATA\"])"
   ]
  },
  {
   "cell_type": "code",
   "execution_count": 5,
   "metadata": {},
   "outputs": [
    {
     "data": {
      "text/plain": [
       "array([nan, 'Casos de violência nas periferias', 'Extrema direita'],\n",
       "      dtype=object)"
      ]
     },
     "execution_count": 5,
     "metadata": {},
     "output_type": "execute_result"
    }
   ],
   "source": [
    "df2016[\"TEMA ESPECIFICO\"].unique()"
   ]
  },
  {
   "cell_type": "code",
   "execution_count": 6,
   "metadata": {},
   "outputs": [],
   "source": [
    "df2016 = df2016.drop(columns=[\"Resumo (TRANSCRIÇÃO)\"])"
   ]
  },
  {
   "cell_type": "code",
   "execution_count": 8,
   "metadata": {},
   "outputs": [],
   "source": [
    "from pandas_profiling import ProfileReport"
   ]
  },
  {
   "cell_type": "code",
   "execution_count": 9,
   "metadata": {},
   "outputs": [],
   "source": [
    "profile = ProfileReport (df2016)"
   ]
  },
  {
   "cell_type": "code",
   "execution_count": 10,
   "metadata": {},
   "outputs": [],
   "source": [
    "profile.to_file(\"report2016.html\")"
   ]
  }
 ],
 "metadata": {
  "kernelspec": {
   "display_name": "Python 3",
   "language": "python",
   "name": "python3"
  },
  "language_info": {
   "codemirror_mode": {
    "name": "ipython",
    "version": 3
   },
   "file_extension": ".py",
   "mimetype": "text/x-python",
   "name": "python",
   "nbconvert_exporter": "python",
   "pygments_lexer": "ipython3",
   "version": "3.7.6"
  }
 },
 "nbformat": 4,
 "nbformat_minor": 4
}
